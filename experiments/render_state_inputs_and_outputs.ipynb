{
 "metadata": {
  "language_info": {
   "codemirror_mode": {
    "name": "ipython",
    "version": 3
   },
   "file_extension": ".py",
   "mimetype": "text/x-python",
   "name": "python",
   "nbconvert_exporter": "python",
   "pygments_lexer": "ipython3",
   "version": "3.8.0-final"
  },
  "orig_nbformat": 2,
  "kernelspec": {
   "name": "python38064bitvenvvenvea21244b4ab8428f977e8f979706dd92",
   "display_name": "Python 3.8.0 64-bit ('venv': venv)"
  }
 },
 "nbformat": 4,
 "nbformat_minor": 2,
 "cells": [
  {
   "cell_type": "code",
   "execution_count": 1,
   "metadata": {
    "tags": []
   },
   "outputs": [
    {
     "output_type": "stream",
     "name": "stdout",
     "text": "<module 'posixpath' from '/usr/lib/python3.8/posixpath.py'>\n"
    }
   ],
   "source": [
    "# Allow relative import\n",
    "import os\n",
    "import sys\n",
    "print(os.path)\n",
    "module_path = os.path.abspath(os.path.join('..'))\n",
    "if module_path not in sys.path:\n",
    "    sys.path.append(module_path)\n"
   ]
  },
  {
   "cell_type": "code",
   "execution_count": 2,
   "metadata": {},
   "outputs": [],
   "source": [
    "from src.Objects import Process, I\n",
    "\n",
    "processes = [\n",
    "    Process(\n",
    "        func=lambda x, y, z: x + y + z,\n",
    "        comment=\"Demo process a\",\n",
    "        config_inputs=[\n",
    "            I('foo.bar', as_='x'),\n",
    "        ],\n",
    "        state_inputs=[\n",
    "            I('info.today', as_='y'),\n",
    "            I('info.hour', as_='z')\n",
    "        ],\n",
    "        state_outputs=[\n",
    "            I('_result', as_='info.tomorrow'),\n",
    "        ]\n",
    "    ),\n",
    "    Process(\n",
    "        func=lambda x, y: x + y,\n",
    "        comment=\"Demo process b\",\n",
    "        config_inputs=[\n",
    "            I('foo.bar', as_='x'),\n",
    "        ],\n",
    "        state_inputs=[\n",
    "            I('info.tomorrow', as_='y'),\n",
    "        ],\n",
    "        state_outputs=[\n",
    "            I('_result', as_='info.today'),\n",
    "        ]\n",
    "    ),\n",
    "    Process(\n",
    "        func=lambda x, y: x + y,\n",
    "        comment=\"Demo process c\",\n",
    "        config_inputs=[\n",
    "            I('foo.bar', as_='x'),\n",
    "        ],\n",
    "        state_inputs=[\n",
    "            I('info.tomorrow', as_='y'),\n",
    "        ],\n",
    "        state_outputs=[\n",
    "            I('_result', as_='info.today'),\n",
    "        ]\n",
    "    ),\n",
    "    Process(\n",
    "        func=lambda x, y: x + y,\n",
    "        comment=\"Demo process d\",\n",
    "        config_inputs=[\n",
    "            I('foo.bar', as_='x'),\n",
    "        ],\n",
    "        state_inputs=[\n",
    "            I('info.today', as_='y'),\n",
    "        ],\n",
    "        state_outputs=[\n",
    "            I('_result', as_='info.tomorrow'),\n",
    "            I('_result', as_='log.extra'),\n",
    "        ]\n",
    "    ),\n",
    "]\n"
   ]
  },
  {
   "cell_type": "code",
   "execution_count": 3,
   "metadata": {},
   "outputs": [
    {
     "output_type": "execute_result",
     "data": {
      "text/plain": "['info.today', 'info.hour', 'log.extra', 'info.tomorrow']"
     },
     "metadata": {},
     "execution_count": 3
    }
   ],
   "source": [
    "inputs_list = list(set([inp.from_ for p in processes for inp in p.state_inputs] + [inp.as_ for p in processes for inp in p.state_outputs]))\n",
    "inputs_list"
   ]
  },
  {
   "cell_type": "code",
   "execution_count": 4,
   "metadata": {},
   "outputs": [
    {
     "output_type": "execute_result",
     "data": {
      "text/plain": "{'info.today': 0, 'info.hour': 1, 'log.extra': 2, 'info.tomorrow': 3}"
     },
     "metadata": {},
     "execution_count": 4
    }
   ],
   "source": [
    "inputs_map = dict((inp, i) for i, inp in enumerate(inputs_list))\n",
    "inputs_map"
   ]
  },
  {
   "cell_type": "code",
   "execution_count": 5,
   "metadata": {
    "tags": []
   },
   "outputs": [
    {
     "output_type": "execute_result",
     "data": {
      "text/plain": "[('Demo process a', [0, 1], [3]),\n ('Demo process b', [3], [0]),\n ('Demo process c', [3], [0]),\n ('Demo process d', [0], [3, 2])]"
     },
     "metadata": {},
     "execution_count": 5
    }
   ],
   "source": [
    "links = []\n",
    "for p in processes:\n",
    "    input_links = [inputs_map[ip.from_] for ip in p.state_inputs]\n",
    "    # input_links = [ip.from_ for ip in p.state_inputs]\n",
    "    output_links = [inputs_map[ip.as_] for ip in p.state_outputs]\n",
    "    # output_links = [ip.as_ for ip in p.state_outputs]\n",
    "    links.append((p.comment, input_links, output_links))\n",
    "links"
   ]
  },
  {
   "cell_type": "code",
   "execution_count": 6,
   "metadata": {},
   "outputs": [],
   "source": [
    "from ipycanvas import Canvas\n",
    "from math import pi\n",
    "from collections import namedtuple\n",
    "from scipy.interpolate import interp1d\n",
    "import numpy as np"
   ]
  },
  {
   "cell_type": "code",
   "execution_count": 7,
   "metadata": {},
   "outputs": [
    {
     "output_type": "display_data",
     "data": {
      "text/plain": "<Figure size 432x288 with 1 Axes>",
      "image/svg+xml": "<?xml version=\"1.0\" encoding=\"utf-8\" standalone=\"no\"?>\n<!DOCTYPE svg PUBLIC \"-//W3C//DTD SVG 1.1//EN\"\n  \"http://www.w3.org/Graphics/SVG/1.1/DTD/svg11.dtd\">\n<!-- Created with matplotlib (https://matplotlib.org/) -->\n<svg height=\"248.518125pt\" version=\"1.1\" viewBox=\"0 0 362.5625 248.518125\" width=\"362.5625pt\" xmlns=\"http://www.w3.org/2000/svg\" xmlns:xlink=\"http://www.w3.org/1999/xlink\">\n <metadata>\n  <rdf:RDF xmlns:cc=\"http://creativecommons.org/ns#\" xmlns:dc=\"http://purl.org/dc/elements/1.1/\" xmlns:rdf=\"http://www.w3.org/1999/02/22-rdf-syntax-ns#\">\n   <cc:Work>\n    <dc:type rdf:resource=\"http://purl.org/dc/dcmitype/StillImage\"/>\n    <dc:date>2020-08-04T13:58:11.944466</dc:date>\n    <dc:format>image/svg+xml</dc:format>\n    <dc:creator>\n     <cc:Agent>\n      <dc:title>Matplotlib v3.3.0, https://matplotlib.org/</dc:title>\n     </cc:Agent>\n    </dc:creator>\n   </cc:Work>\n  </rdf:RDF>\n </metadata>\n <defs>\n  <style type=\"text/css\">*{stroke-linecap:butt;stroke-linejoin:round;}</style>\n </defs>\n <g id=\"figure_1\">\n  <g id=\"patch_1\">\n   <path d=\"M 0 248.518125 \nL 362.5625 248.518125 \nL 362.5625 0 \nL 0 0 \nz\n\" style=\"fill:none;\"/>\n  </g>\n  <g id=\"axes_1\">\n   <g id=\"patch_2\">\n    <path d=\"M 20.5625 224.64 \nL 355.3625 224.64 \nL 355.3625 7.2 \nL 20.5625 7.2 \nz\n\" style=\"fill:#ffffff;\"/>\n   </g>\n   <g id=\"PathCollection_1\">\n    <defs>\n     <path d=\"M 0 3 \nC 0.795609 3 1.55874 2.683901 2.12132 2.12132 \nC 2.683901 1.55874 3 0.795609 3 0 \nC 3 -0.795609 2.683901 -1.55874 2.12132 -2.12132 \nC 1.55874 -2.683901 0.795609 -3 0 -3 \nC -0.795609 -3 -1.55874 -2.683901 -2.12132 -2.12132 \nC -2.683901 -1.55874 -3 -0.795609 -3 0 \nC -3 0.795609 -2.683901 1.55874 -2.12132 2.12132 \nC -1.55874 2.683901 -0.795609 3 0 3 \nz\n\" id=\"me0fc7d8e2f\" style=\"stroke:#1f77b4;\"/>\n    </defs>\n    <g clip-path=\"url(#p6a4c301adb)\">\n     <use style=\"fill:#1f77b4;stroke:#1f77b4;\" x=\"35.780682\" xlink:href=\"#me0fc7d8e2f\" y=\"191.13158\"/>\n     <use style=\"fill:#1f77b4;stroke:#1f77b4;\" x=\"51.799821\" xlink:href=\"#me0fc7d8e2f\" y=\"204.839788\"/>\n     <use style=\"fill:#1f77b4;stroke:#1f77b4;\" x=\"67.818959\" xlink:href=\"#me0fc7d8e2f\" y=\"212.714716\"/>\n     <use style=\"fill:#1f77b4;stroke:#1f77b4;\" x=\"83.838098\" xlink:href=\"#me0fc7d8e2f\" y=\"214.756364\"/>\n     <use style=\"fill:#1f77b4;stroke:#1f77b4;\" x=\"99.857237\" xlink:href=\"#me0fc7d8e2f\" y=\"210.964732\"/>\n     <use style=\"fill:#1f77b4;stroke:#1f77b4;\" x=\"115.876376\" xlink:href=\"#me0fc7d8e2f\" y=\"201.33982\"/>\n     <use style=\"fill:#1f77b4;stroke:#1f77b4;\" x=\"131.895514\" xlink:href=\"#me0fc7d8e2f\" y=\"185.881629\"/>\n     <use style=\"fill:#1f77b4;stroke:#1f77b4;\" x=\"147.914653\" xlink:href=\"#me0fc7d8e2f\" y=\"164.590157\"/>\n     <use style=\"fill:#1f77b4;stroke:#1f77b4;\" x=\"163.933792\" xlink:href=\"#me0fc7d8e2f\" y=\"138.124727\"/>\n     <use style=\"fill:#1f77b4;stroke:#1f77b4;\" x=\"179.952931\" xlink:href=\"#me0fc7d8e2f\" y=\"112.58406\"/>\n     <use style=\"fill:#1f77b4;stroke:#1f77b4;\" x=\"195.972069\" xlink:href=\"#me0fc7d8e2f\" y=\"89.451627\"/>\n     <use style=\"fill:#1f77b4;stroke:#1f77b4;\" x=\"211.991208\" xlink:href=\"#me0fc7d8e2f\" y=\"68.727428\"/>\n     <use style=\"fill:#1f77b4;stroke:#1f77b4;\" x=\"228.010347\" xlink:href=\"#me0fc7d8e2f\" y=\"50.681187\"/>\n     <use style=\"fill:#1f77b4;stroke:#1f77b4;\" x=\"244.029486\" xlink:href=\"#me0fc7d8e2f\" y=\"36.421762\"/>\n     <use style=\"fill:#1f77b4;stroke:#1f77b4;\" x=\"260.048624\" xlink:href=\"#me0fc7d8e2f\" y=\"26.069028\"/>\n     <use style=\"fill:#1f77b4;stroke:#1f77b4;\" x=\"276.067763\" xlink:href=\"#me0fc7d8e2f\" y=\"19.622986\"/>\n     <use style=\"fill:#1f77b4;stroke:#1f77b4;\" x=\"292.086902\" xlink:href=\"#me0fc7d8e2f\" y=\"17.083636\"/>\n     <use style=\"fill:#1f77b4;stroke:#1f77b4;\" x=\"308.106041\" xlink:href=\"#me0fc7d8e2f\" y=\"18.450979\"/>\n     <use style=\"fill:#1f77b4;stroke:#1f77b4;\" x=\"324.125179\" xlink:href=\"#me0fc7d8e2f\" y=\"23.725013\"/>\n     <use style=\"fill:#1f77b4;stroke:#1f77b4;\" x=\"340.144318\" xlink:href=\"#me0fc7d8e2f\" y=\"32.905739\"/>\n    </g>\n   </g>\n   <g id=\"matplotlib.axis_1\">\n    <g id=\"xtick_1\">\n     <g id=\"line2d_1\">\n      <defs>\n       <path d=\"M 0 0 \nL 0 3.5 \n\" id=\"m04217de6a5\" style=\"stroke:#000000;stroke-width:0.8;\"/>\n      </defs>\n      <g>\n       <use style=\"stroke:#000000;stroke-width:0.8;\" x=\"35.780682\" xlink:href=\"#m04217de6a5\" y=\"224.64\"/>\n      </g>\n     </g>\n     <g id=\"text_1\">\n      <!-- 0 -->\n      <g transform=\"translate(32.599432 239.238438)scale(0.1 -0.1)\">\n       <defs>\n        <path d=\"M 31.78125 66.40625 \nQ 24.171875 66.40625 20.328125 58.90625 \nQ 16.5 51.421875 16.5 36.375 \nQ 16.5 21.390625 20.328125 13.890625 \nQ 24.171875 6.390625 31.78125 6.390625 \nQ 39.453125 6.390625 43.28125 13.890625 \nQ 47.125 21.390625 47.125 36.375 \nQ 47.125 51.421875 43.28125 58.90625 \nQ 39.453125 66.40625 31.78125 66.40625 \nz\nM 31.78125 74.21875 \nQ 44.046875 74.21875 50.515625 64.515625 \nQ 56.984375 54.828125 56.984375 36.375 \nQ 56.984375 17.96875 50.515625 8.265625 \nQ 44.046875 -1.421875 31.78125 -1.421875 \nQ 19.53125 -1.421875 13.0625 8.265625 \nQ 6.59375 17.96875 6.59375 36.375 \nQ 6.59375 54.828125 13.0625 64.515625 \nQ 19.53125 74.21875 31.78125 74.21875 \nz\n\" id=\"DejaVuSans-48\"/>\n       </defs>\n       <use xlink:href=\"#DejaVuSans-48\"/>\n      </g>\n     </g>\n    </g>\n    <g id=\"xtick_2\">\n     <g id=\"line2d_2\">\n      <g>\n       <use style=\"stroke:#000000;stroke-width:0.8;\" x=\"96.653409\" xlink:href=\"#m04217de6a5\" y=\"224.64\"/>\n      </g>\n     </g>\n     <g id=\"text_2\">\n      <!-- 20 -->\n      <g transform=\"translate(90.290909 239.238438)scale(0.1 -0.1)\">\n       <defs>\n        <path d=\"M 19.1875 8.296875 \nL 53.609375 8.296875 \nL 53.609375 0 \nL 7.328125 0 \nL 7.328125 8.296875 \nQ 12.9375 14.109375 22.625 23.890625 \nQ 32.328125 33.6875 34.8125 36.53125 \nQ 39.546875 41.84375 41.421875 45.53125 \nQ 43.3125 49.21875 43.3125 52.78125 \nQ 43.3125 58.59375 39.234375 62.25 \nQ 35.15625 65.921875 28.609375 65.921875 \nQ 23.96875 65.921875 18.8125 64.3125 \nQ 13.671875 62.703125 7.8125 59.421875 \nL 7.8125 69.390625 \nQ 13.765625 71.78125 18.9375 73 \nQ 24.125 74.21875 28.421875 74.21875 \nQ 39.75 74.21875 46.484375 68.546875 \nQ 53.21875 62.890625 53.21875 53.421875 \nQ 53.21875 48.921875 51.53125 44.890625 \nQ 49.859375 40.875 45.40625 35.40625 \nQ 44.1875 33.984375 37.640625 27.21875 \nQ 31.109375 20.453125 19.1875 8.296875 \nz\n\" id=\"DejaVuSans-50\"/>\n       </defs>\n       <use xlink:href=\"#DejaVuSans-50\"/>\n       <use x=\"63.623047\" xlink:href=\"#DejaVuSans-48\"/>\n      </g>\n     </g>\n    </g>\n    <g id=\"xtick_3\">\n     <g id=\"line2d_3\">\n      <g>\n       <use style=\"stroke:#000000;stroke-width:0.8;\" x=\"157.526136\" xlink:href=\"#m04217de6a5\" y=\"224.64\"/>\n      </g>\n     </g>\n     <g id=\"text_3\">\n      <!-- 40 -->\n      <g transform=\"translate(151.163636 239.238438)scale(0.1 -0.1)\">\n       <defs>\n        <path d=\"M 37.796875 64.3125 \nL 12.890625 25.390625 \nL 37.796875 25.390625 \nz\nM 35.203125 72.90625 \nL 47.609375 72.90625 \nL 47.609375 25.390625 \nL 58.015625 25.390625 \nL 58.015625 17.1875 \nL 47.609375 17.1875 \nL 47.609375 0 \nL 37.796875 0 \nL 37.796875 17.1875 \nL 4.890625 17.1875 \nL 4.890625 26.703125 \nz\n\" id=\"DejaVuSans-52\"/>\n       </defs>\n       <use xlink:href=\"#DejaVuSans-52\"/>\n       <use x=\"63.623047\" xlink:href=\"#DejaVuSans-48\"/>\n      </g>\n     </g>\n    </g>\n    <g id=\"xtick_4\">\n     <g id=\"line2d_4\">\n      <g>\n       <use style=\"stroke:#000000;stroke-width:0.8;\" x=\"218.398864\" xlink:href=\"#m04217de6a5\" y=\"224.64\"/>\n      </g>\n     </g>\n     <g id=\"text_4\">\n      <!-- 60 -->\n      <g transform=\"translate(212.036364 239.238438)scale(0.1 -0.1)\">\n       <defs>\n        <path d=\"M 33.015625 40.375 \nQ 26.375 40.375 22.484375 35.828125 \nQ 18.609375 31.296875 18.609375 23.390625 \nQ 18.609375 15.53125 22.484375 10.953125 \nQ 26.375 6.390625 33.015625 6.390625 \nQ 39.65625 6.390625 43.53125 10.953125 \nQ 47.40625 15.53125 47.40625 23.390625 \nQ 47.40625 31.296875 43.53125 35.828125 \nQ 39.65625 40.375 33.015625 40.375 \nz\nM 52.59375 71.296875 \nL 52.59375 62.3125 \nQ 48.875 64.0625 45.09375 64.984375 \nQ 41.3125 65.921875 37.59375 65.921875 \nQ 27.828125 65.921875 22.671875 59.328125 \nQ 17.53125 52.734375 16.796875 39.40625 \nQ 19.671875 43.65625 24.015625 45.921875 \nQ 28.375 48.1875 33.59375 48.1875 \nQ 44.578125 48.1875 50.953125 41.515625 \nQ 57.328125 34.859375 57.328125 23.390625 \nQ 57.328125 12.15625 50.6875 5.359375 \nQ 44.046875 -1.421875 33.015625 -1.421875 \nQ 20.359375 -1.421875 13.671875 8.265625 \nQ 6.984375 17.96875 6.984375 36.375 \nQ 6.984375 53.65625 15.1875 63.9375 \nQ 23.390625 74.21875 37.203125 74.21875 \nQ 40.921875 74.21875 44.703125 73.484375 \nQ 48.484375 72.75 52.59375 71.296875 \nz\n\" id=\"DejaVuSans-54\"/>\n       </defs>\n       <use xlink:href=\"#DejaVuSans-54\"/>\n       <use x=\"63.623047\" xlink:href=\"#DejaVuSans-48\"/>\n      </g>\n     </g>\n    </g>\n    <g id=\"xtick_5\">\n     <g id=\"line2d_5\">\n      <g>\n       <use style=\"stroke:#000000;stroke-width:0.8;\" x=\"279.271591\" xlink:href=\"#m04217de6a5\" y=\"224.64\"/>\n      </g>\n     </g>\n     <g id=\"text_5\">\n      <!-- 80 -->\n      <g transform=\"translate(272.909091 239.238438)scale(0.1 -0.1)\">\n       <defs>\n        <path d=\"M 31.78125 34.625 \nQ 24.75 34.625 20.71875 30.859375 \nQ 16.703125 27.09375 16.703125 20.515625 \nQ 16.703125 13.921875 20.71875 10.15625 \nQ 24.75 6.390625 31.78125 6.390625 \nQ 38.8125 6.390625 42.859375 10.171875 \nQ 46.921875 13.96875 46.921875 20.515625 \nQ 46.921875 27.09375 42.890625 30.859375 \nQ 38.875 34.625 31.78125 34.625 \nz\nM 21.921875 38.8125 \nQ 15.578125 40.375 12.03125 44.71875 \nQ 8.5 49.078125 8.5 55.328125 \nQ 8.5 64.0625 14.71875 69.140625 \nQ 20.953125 74.21875 31.78125 74.21875 \nQ 42.671875 74.21875 48.875 69.140625 \nQ 55.078125 64.0625 55.078125 55.328125 \nQ 55.078125 49.078125 51.53125 44.71875 \nQ 48 40.375 41.703125 38.8125 \nQ 48.828125 37.15625 52.796875 32.3125 \nQ 56.78125 27.484375 56.78125 20.515625 \nQ 56.78125 9.90625 50.3125 4.234375 \nQ 43.84375 -1.421875 31.78125 -1.421875 \nQ 19.734375 -1.421875 13.25 4.234375 \nQ 6.78125 9.90625 6.78125 20.515625 \nQ 6.78125 27.484375 10.78125 32.3125 \nQ 14.796875 37.15625 21.921875 38.8125 \nz\nM 18.3125 54.390625 \nQ 18.3125 48.734375 21.84375 45.5625 \nQ 25.390625 42.390625 31.78125 42.390625 \nQ 38.140625 42.390625 41.71875 45.5625 \nQ 45.3125 48.734375 45.3125 54.390625 \nQ 45.3125 60.0625 41.71875 63.234375 \nQ 38.140625 66.40625 31.78125 66.40625 \nQ 25.390625 66.40625 21.84375 63.234375 \nQ 18.3125 60.0625 18.3125 54.390625 \nz\n\" id=\"DejaVuSans-56\"/>\n       </defs>\n       <use xlink:href=\"#DejaVuSans-56\"/>\n       <use x=\"63.623047\" xlink:href=\"#DejaVuSans-48\"/>\n      </g>\n     </g>\n    </g>\n    <g id=\"xtick_6\">\n     <g id=\"line2d_6\">\n      <g>\n       <use style=\"stroke:#000000;stroke-width:0.8;\" x=\"340.144318\" xlink:href=\"#m04217de6a5\" y=\"224.64\"/>\n      </g>\n     </g>\n     <g id=\"text_6\">\n      <!-- 100 -->\n      <g transform=\"translate(330.600568 239.238438)scale(0.1 -0.1)\">\n       <defs>\n        <path d=\"M 12.40625 8.296875 \nL 28.515625 8.296875 \nL 28.515625 63.921875 \nL 10.984375 60.40625 \nL 10.984375 69.390625 \nL 28.421875 72.90625 \nL 38.28125 72.90625 \nL 38.28125 8.296875 \nL 54.390625 8.296875 \nL 54.390625 0 \nL 12.40625 0 \nz\n\" id=\"DejaVuSans-49\"/>\n       </defs>\n       <use xlink:href=\"#DejaVuSans-49\"/>\n       <use x=\"63.623047\" xlink:href=\"#DejaVuSans-48\"/>\n       <use x=\"127.246094\" xlink:href=\"#DejaVuSans-48\"/>\n      </g>\n     </g>\n    </g>\n   </g>\n   <g id=\"matplotlib.axis_2\">\n    <g id=\"ytick_1\">\n     <g id=\"line2d_7\">\n      <defs>\n       <path d=\"M 0 0 \nL -3.5 0 \n\" id=\"mbf977e455a\" style=\"stroke:#000000;stroke-width:0.8;\"/>\n      </defs>\n      <g>\n       <use style=\"stroke:#000000;stroke-width:0.8;\" x=\"20.5625\" xlink:href=\"#mbf977e455a\" y=\"213.735272\"/>\n      </g>\n     </g>\n     <g id=\"text_7\">\n      <!-- 0 -->\n      <g transform=\"translate(7.2 217.534491)scale(0.1 -0.1)\">\n       <use xlink:href=\"#DejaVuSans-48\"/>\n      </g>\n     </g>\n    </g>\n    <g id=\"ytick_2\">\n     <g id=\"line2d_8\">\n      <g>\n       <use style=\"stroke:#000000;stroke-width:0.8;\" x=\"20.5625\" xlink:href=\"#mbf977e455a\" y=\"168.527889\"/>\n      </g>\n     </g>\n     <g id=\"text_8\">\n      <!-- 2 -->\n      <g transform=\"translate(7.2 172.327108)scale(0.1 -0.1)\">\n       <use xlink:href=\"#DejaVuSans-50\"/>\n      </g>\n     </g>\n    </g>\n    <g id=\"ytick_3\">\n     <g id=\"line2d_9\">\n      <g>\n       <use style=\"stroke:#000000;stroke-width:0.8;\" x=\"20.5625\" xlink:href=\"#mbf977e455a\" y=\"123.320505\"/>\n      </g>\n     </g>\n     <g id=\"text_9\">\n      <!-- 4 -->\n      <g transform=\"translate(7.2 127.119724)scale(0.1 -0.1)\">\n       <use xlink:href=\"#DejaVuSans-52\"/>\n      </g>\n     </g>\n    </g>\n    <g id=\"ytick_4\">\n     <g id=\"line2d_10\">\n      <g>\n       <use style=\"stroke:#000000;stroke-width:0.8;\" x=\"20.5625\" xlink:href=\"#mbf977e455a\" y=\"78.113122\"/>\n      </g>\n     </g>\n     <g id=\"text_10\">\n      <!-- 6 -->\n      <g transform=\"translate(7.2 81.912341)scale(0.1 -0.1)\">\n       <use xlink:href=\"#DejaVuSans-54\"/>\n      </g>\n     </g>\n    </g>\n    <g id=\"ytick_5\">\n     <g id=\"line2d_11\">\n      <g>\n       <use style=\"stroke:#000000;stroke-width:0.8;\" x=\"20.5625\" xlink:href=\"#mbf977e455a\" y=\"32.905739\"/>\n      </g>\n     </g>\n     <g id=\"text_11\">\n      <!-- 8 -->\n      <g transform=\"translate(7.2 36.704958)scale(0.1 -0.1)\">\n       <use xlink:href=\"#DejaVuSans-56\"/>\n      </g>\n     </g>\n    </g>\n   </g>\n   <g id=\"line2d_12\">\n    <g clip-path=\"url(#p6a4c301adb)\">\n     <use style=\"fill:#1f77b4;stroke:#1f77b4;\" x=\"35.780682\" xlink:href=\"#me0fc7d8e2f\" y=\"191.13158\"/>\n     <use style=\"fill:#1f77b4;stroke:#1f77b4;\" x=\"127.089773\" xlink:href=\"#me0fc7d8e2f\" y=\"191.13158\"/>\n     <use style=\"fill:#1f77b4;stroke:#1f77b4;\" x=\"187.9625\" xlink:href=\"#me0fc7d8e2f\" y=\"100.716814\"/>\n     <use style=\"fill:#1f77b4;stroke:#1f77b4;\" x=\"248.835227\" xlink:href=\"#me0fc7d8e2f\" y=\"32.905739\"/>\n     <use style=\"fill:#1f77b4;stroke:#1f77b4;\" x=\"340.144318\" xlink:href=\"#me0fc7d8e2f\" y=\"32.905739\"/>\n    </g>\n   </g>\n   <g id=\"line2d_13\">\n    <path clip-path=\"url(#p6a4c301adb)\" d=\"M 35.780682 191.13158 \nL 51.799821 191.13158 \nL 67.818959 191.13158 \nL 83.838098 191.13158 \nL 99.857237 191.13158 \nL 115.876376 191.13158 \nL 131.895514 183.993573 \nL 147.914653 160.200213 \nL 163.933792 136.406853 \nL 179.952931 112.613494 \nL 195.972069 91.794304 \nL 211.991208 73.949284 \nL 228.010347 56.104265 \nL 244.029486 38.259245 \nL 260.048624 32.905739 \nL 276.067763 32.905739 \nL 292.086902 32.905739 \nL 308.106041 32.905739 \nL 324.125179 32.905739 \nL 340.144318 32.905739 \n\" style=\"fill:none;stroke:#ff7f0e;stroke-linecap:square;stroke-width:1.5;\"/>\n   </g>\n   <g id=\"line2d_14\">\n    <path clip-path=\"url(#p6a4c301adb)\" d=\"M 35.780682 191.13158 \nL 51.799821 204.839788 \nL 67.818959 212.714716 \nL 83.838098 214.756364 \nL 99.857237 210.964732 \nL 115.876376 201.33982 \nL 131.895514 185.881629 \nL 147.914653 164.590157 \nL 163.933792 138.124727 \nL 179.952931 112.58406 \nL 195.972069 89.451627 \nL 211.991208 68.727428 \nL 228.010347 50.681187 \nL 244.029486 36.421762 \nL 260.048624 26.069028 \nL 276.067763 19.622986 \nL 292.086902 17.083636 \nL 308.106041 18.450979 \nL 324.125179 23.725013 \nL 340.144318 32.905739 \n\" style=\"fill:none;stroke:#2ca02c;stroke-dasharray:5.55,2.4;stroke-dashoffset:0;stroke-width:1.5;\"/>\n   </g>\n   <g id=\"patch_3\">\n    <path d=\"M 20.5625 224.64 \nL 20.5625 7.2 \n\" style=\"fill:none;stroke:#000000;stroke-linecap:square;stroke-linejoin:miter;stroke-width:0.8;\"/>\n   </g>\n   <g id=\"patch_4\">\n    <path d=\"M 355.3625 224.64 \nL 355.3625 7.2 \n\" style=\"fill:none;stroke:#000000;stroke-linecap:square;stroke-linejoin:miter;stroke-width:0.8;\"/>\n   </g>\n   <g id=\"patch_5\">\n    <path d=\"M 20.5625 224.64 \nL 355.3625 224.64 \n\" style=\"fill:none;stroke:#000000;stroke-linecap:square;stroke-linejoin:miter;stroke-width:0.8;\"/>\n   </g>\n   <g id=\"patch_6\">\n    <path d=\"M 20.5625 7.2 \nL 355.3625 7.2 \n\" style=\"fill:none;stroke:#000000;stroke-linecap:square;stroke-linejoin:miter;stroke-width:0.8;\"/>\n   </g>\n   <g id=\"legend_1\">\n    <g id=\"patch_7\">\n     <path d=\"M 27.5625 59.234375 \nL 87.848438 59.234375 \nQ 89.848438 59.234375 89.848438 57.234375 \nL 89.848438 14.2 \nQ 89.848438 12.2 87.848438 12.2 \nL 27.5625 12.2 \nQ 25.5625 12.2 25.5625 14.2 \nL 25.5625 57.234375 \nQ 25.5625 59.234375 27.5625 59.234375 \nz\n\" style=\"fill:#ffffff;opacity:0.8;stroke:#cccccc;stroke-linejoin:miter;\"/>\n    </g>\n    <g id=\"line2d_15\"/>\n    <g id=\"line2d_16\">\n     <g>\n      <use style=\"fill:#1f77b4;stroke:#1f77b4;\" x=\"39.5625\" xlink:href=\"#me0fc7d8e2f\" y=\"20.298438\"/>\n     </g>\n    </g>\n    <g id=\"text_12\">\n     <!-- data -->\n     <g transform=\"translate(57.5625 23.798438)scale(0.1 -0.1)\">\n      <defs>\n       <path d=\"M 45.40625 46.390625 \nL 45.40625 75.984375 \nL 54.390625 75.984375 \nL 54.390625 0 \nL 45.40625 0 \nL 45.40625 8.203125 \nQ 42.578125 3.328125 38.25 0.953125 \nQ 33.9375 -1.421875 27.875 -1.421875 \nQ 17.96875 -1.421875 11.734375 6.484375 \nQ 5.515625 14.40625 5.515625 27.296875 \nQ 5.515625 40.1875 11.734375 48.09375 \nQ 17.96875 56 27.875 56 \nQ 33.9375 56 38.25 53.625 \nQ 42.578125 51.265625 45.40625 46.390625 \nz\nM 14.796875 27.296875 \nQ 14.796875 17.390625 18.875 11.75 \nQ 22.953125 6.109375 30.078125 6.109375 \nQ 37.203125 6.109375 41.296875 11.75 \nQ 45.40625 17.390625 45.40625 27.296875 \nQ 45.40625 37.203125 41.296875 42.84375 \nQ 37.203125 48.484375 30.078125 48.484375 \nQ 22.953125 48.484375 18.875 42.84375 \nQ 14.796875 37.203125 14.796875 27.296875 \nz\n\" id=\"DejaVuSans-100\"/>\n       <path d=\"M 34.28125 27.484375 \nQ 23.390625 27.484375 19.1875 25 \nQ 14.984375 22.515625 14.984375 16.5 \nQ 14.984375 11.71875 18.140625 8.90625 \nQ 21.296875 6.109375 26.703125 6.109375 \nQ 34.1875 6.109375 38.703125 11.40625 \nQ 43.21875 16.703125 43.21875 25.484375 \nL 43.21875 27.484375 \nz\nM 52.203125 31.203125 \nL 52.203125 0 \nL 43.21875 0 \nL 43.21875 8.296875 \nQ 40.140625 3.328125 35.546875 0.953125 \nQ 30.953125 -1.421875 24.3125 -1.421875 \nQ 15.921875 -1.421875 10.953125 3.296875 \nQ 6 8.015625 6 15.921875 \nQ 6 25.140625 12.171875 29.828125 \nQ 18.359375 34.515625 30.609375 34.515625 \nL 43.21875 34.515625 \nL 43.21875 35.40625 \nQ 43.21875 41.609375 39.140625 45 \nQ 35.0625 48.390625 27.6875 48.390625 \nQ 23 48.390625 18.546875 47.265625 \nQ 14.109375 46.140625 10.015625 43.890625 \nL 10.015625 52.203125 \nQ 14.9375 54.109375 19.578125 55.046875 \nQ 24.21875 56 28.609375 56 \nQ 40.484375 56 46.34375 49.84375 \nQ 52.203125 43.703125 52.203125 31.203125 \nz\n\" id=\"DejaVuSans-97\"/>\n       <path d=\"M 18.3125 70.21875 \nL 18.3125 54.6875 \nL 36.8125 54.6875 \nL 36.8125 47.703125 \nL 18.3125 47.703125 \nL 18.3125 18.015625 \nQ 18.3125 11.328125 20.140625 9.421875 \nQ 21.96875 7.515625 27.59375 7.515625 \nL 36.8125 7.515625 \nL 36.8125 0 \nL 27.59375 0 \nQ 17.1875 0 13.234375 3.875 \nQ 9.28125 7.765625 9.28125 18.015625 \nL 9.28125 47.703125 \nL 2.6875 47.703125 \nL 2.6875 54.6875 \nL 9.28125 54.6875 \nL 9.28125 70.21875 \nz\n\" id=\"DejaVuSans-116\"/>\n      </defs>\n      <use xlink:href=\"#DejaVuSans-100\"/>\n      <use x=\"63.476562\" xlink:href=\"#DejaVuSans-97\"/>\n      <use x=\"124.755859\" xlink:href=\"#DejaVuSans-116\"/>\n      <use x=\"163.964844\" xlink:href=\"#DejaVuSans-97\"/>\n     </g>\n    </g>\n    <g id=\"line2d_17\">\n     <path d=\"M 29.5625 34.976563 \nL 49.5625 34.976563 \n\" style=\"fill:none;stroke:#ff7f0e;stroke-linecap:square;stroke-width:1.5;\"/>\n    </g>\n    <g id=\"line2d_18\"/>\n    <g id=\"text_13\">\n     <!-- linear -->\n     <g transform=\"translate(57.5625 38.476563)scale(0.1 -0.1)\">\n      <defs>\n       <path d=\"M 9.421875 75.984375 \nL 18.40625 75.984375 \nL 18.40625 0 \nL 9.421875 0 \nz\n\" id=\"DejaVuSans-108\"/>\n       <path d=\"M 9.421875 54.6875 \nL 18.40625 54.6875 \nL 18.40625 0 \nL 9.421875 0 \nz\nM 9.421875 75.984375 \nL 18.40625 75.984375 \nL 18.40625 64.59375 \nL 9.421875 64.59375 \nz\n\" id=\"DejaVuSans-105\"/>\n       <path d=\"M 54.890625 33.015625 \nL 54.890625 0 \nL 45.90625 0 \nL 45.90625 32.71875 \nQ 45.90625 40.484375 42.875 44.328125 \nQ 39.84375 48.1875 33.796875 48.1875 \nQ 26.515625 48.1875 22.3125 43.546875 \nQ 18.109375 38.921875 18.109375 30.90625 \nL 18.109375 0 \nL 9.078125 0 \nL 9.078125 54.6875 \nL 18.109375 54.6875 \nL 18.109375 46.1875 \nQ 21.34375 51.125 25.703125 53.5625 \nQ 30.078125 56 35.796875 56 \nQ 45.21875 56 50.046875 50.171875 \nQ 54.890625 44.34375 54.890625 33.015625 \nz\n\" id=\"DejaVuSans-110\"/>\n       <path d=\"M 56.203125 29.59375 \nL 56.203125 25.203125 \nL 14.890625 25.203125 \nQ 15.484375 15.921875 20.484375 11.0625 \nQ 25.484375 6.203125 34.421875 6.203125 \nQ 39.59375 6.203125 44.453125 7.46875 \nQ 49.3125 8.734375 54.109375 11.28125 \nL 54.109375 2.78125 \nQ 49.265625 0.734375 44.1875 -0.34375 \nQ 39.109375 -1.421875 33.890625 -1.421875 \nQ 20.796875 -1.421875 13.15625 6.1875 \nQ 5.515625 13.8125 5.515625 26.8125 \nQ 5.515625 40.234375 12.765625 48.109375 \nQ 20.015625 56 32.328125 56 \nQ 43.359375 56 49.78125 48.890625 \nQ 56.203125 41.796875 56.203125 29.59375 \nz\nM 47.21875 32.234375 \nQ 47.125 39.59375 43.09375 43.984375 \nQ 39.0625 48.390625 32.421875 48.390625 \nQ 24.90625 48.390625 20.390625 44.140625 \nQ 15.875 39.890625 15.1875 32.171875 \nz\n\" id=\"DejaVuSans-101\"/>\n       <path d=\"M 41.109375 46.296875 \nQ 39.59375 47.171875 37.8125 47.578125 \nQ 36.03125 48 33.890625 48 \nQ 26.265625 48 22.1875 43.046875 \nQ 18.109375 38.09375 18.109375 28.8125 \nL 18.109375 0 \nL 9.078125 0 \nL 9.078125 54.6875 \nL 18.109375 54.6875 \nL 18.109375 46.1875 \nQ 20.953125 51.171875 25.484375 53.578125 \nQ 30.03125 56 36.53125 56 \nQ 37.453125 56 38.578125 55.875 \nQ 39.703125 55.765625 41.0625 55.515625 \nz\n\" id=\"DejaVuSans-114\"/>\n      </defs>\n      <use xlink:href=\"#DejaVuSans-108\"/>\n      <use x=\"27.783203\" xlink:href=\"#DejaVuSans-105\"/>\n      <use x=\"55.566406\" xlink:href=\"#DejaVuSans-110\"/>\n      <use x=\"118.945312\" xlink:href=\"#DejaVuSans-101\"/>\n      <use x=\"180.46875\" xlink:href=\"#DejaVuSans-97\"/>\n      <use x=\"241.748047\" xlink:href=\"#DejaVuSans-114\"/>\n     </g>\n    </g>\n    <g id=\"line2d_19\">\n     <path d=\"M 29.5625 49.654688 \nL 49.5625 49.654688 \n\" style=\"fill:none;stroke:#2ca02c;stroke-dasharray:5.55,2.4;stroke-dashoffset:0;stroke-width:1.5;\"/>\n    </g>\n    <g id=\"line2d_20\"/>\n    <g id=\"text_14\">\n     <!-- cubic -->\n     <g transform=\"translate(57.5625 53.154688)scale(0.1 -0.1)\">\n      <defs>\n       <path d=\"M 48.78125 52.59375 \nL 48.78125 44.1875 \nQ 44.96875 46.296875 41.140625 47.34375 \nQ 37.3125 48.390625 33.40625 48.390625 \nQ 24.65625 48.390625 19.8125 42.84375 \nQ 14.984375 37.3125 14.984375 27.296875 \nQ 14.984375 17.28125 19.8125 11.734375 \nQ 24.65625 6.203125 33.40625 6.203125 \nQ 37.3125 6.203125 41.140625 7.25 \nQ 44.96875 8.296875 48.78125 10.40625 \nL 48.78125 2.09375 \nQ 45.015625 0.34375 40.984375 -0.53125 \nQ 36.96875 -1.421875 32.421875 -1.421875 \nQ 20.0625 -1.421875 12.78125 6.34375 \nQ 5.515625 14.109375 5.515625 27.296875 \nQ 5.515625 40.671875 12.859375 48.328125 \nQ 20.21875 56 33.015625 56 \nQ 37.15625 56 41.109375 55.140625 \nQ 45.0625 54.296875 48.78125 52.59375 \nz\n\" id=\"DejaVuSans-99\"/>\n       <path d=\"M 8.5 21.578125 \nL 8.5 54.6875 \nL 17.484375 54.6875 \nL 17.484375 21.921875 \nQ 17.484375 14.15625 20.5 10.265625 \nQ 23.53125 6.390625 29.59375 6.390625 \nQ 36.859375 6.390625 41.078125 11.03125 \nQ 45.3125 15.671875 45.3125 23.6875 \nL 45.3125 54.6875 \nL 54.296875 54.6875 \nL 54.296875 0 \nL 45.3125 0 \nL 45.3125 8.40625 \nQ 42.046875 3.421875 37.71875 1 \nQ 33.40625 -1.421875 27.6875 -1.421875 \nQ 18.265625 -1.421875 13.375 4.4375 \nQ 8.5 10.296875 8.5 21.578125 \nz\nM 31.109375 56 \nz\n\" id=\"DejaVuSans-117\"/>\n       <path d=\"M 48.6875 27.296875 \nQ 48.6875 37.203125 44.609375 42.84375 \nQ 40.53125 48.484375 33.40625 48.484375 \nQ 26.265625 48.484375 22.1875 42.84375 \nQ 18.109375 37.203125 18.109375 27.296875 \nQ 18.109375 17.390625 22.1875 11.75 \nQ 26.265625 6.109375 33.40625 6.109375 \nQ 40.53125 6.109375 44.609375 11.75 \nQ 48.6875 17.390625 48.6875 27.296875 \nz\nM 18.109375 46.390625 \nQ 20.953125 51.265625 25.265625 53.625 \nQ 29.59375 56 35.59375 56 \nQ 45.5625 56 51.78125 48.09375 \nQ 58.015625 40.1875 58.015625 27.296875 \nQ 58.015625 14.40625 51.78125 6.484375 \nQ 45.5625 -1.421875 35.59375 -1.421875 \nQ 29.59375 -1.421875 25.265625 0.953125 \nQ 20.953125 3.328125 18.109375 8.203125 \nL 18.109375 0 \nL 9.078125 0 \nL 9.078125 75.984375 \nL 18.109375 75.984375 \nz\n\" id=\"DejaVuSans-98\"/>\n      </defs>\n      <use xlink:href=\"#DejaVuSans-99\"/>\n      <use x=\"54.980469\" xlink:href=\"#DejaVuSans-117\"/>\n      <use x=\"118.359375\" xlink:href=\"#DejaVuSans-98\"/>\n      <use x=\"181.835938\" xlink:href=\"#DejaVuSans-105\"/>\n      <use x=\"209.619141\" xlink:href=\"#DejaVuSans-99\"/>\n     </g>\n    </g>\n   </g>\n  </g>\n </g>\n <defs>\n  <clipPath id=\"p6a4c301adb\">\n   <rect height=\"217.44\" width=\"334.8\" x=\"20.5625\" y=\"7.2\"/>\n  </clipPath>\n </defs>\n</svg>\n",
      "image/png": "[encoded data removed]"
     },
     "metadata": {
      "needs_background": "light"
     }
    }
   ],
   "source": [
    "x = np.array([0, 30, 50, 70, 100])\n",
    "y = np.array([1,1, 5,8,8])\n",
    "y\n",
    "f = interp1d(x, y)\n",
    "f\n",
    "f2 = interp1d(x, y, kind=2, fill_value=\"extrapolate\")\n",
    "\n",
    "xnew = np.linspace(min(x), max(x), num=20, endpoint=True)\n",
    "ynew=f2(xnew)\n",
    "ynew\n",
    "\n",
    "import matplotlib.pyplot as plt\n",
    "\n",
    "plt.plot(x, y, 'o', xnew, f(xnew), '-', xnew, f2(xnew), '--')\n",
    "plt.scatter(xnew, ynew)\n",
    "plt.legend(['data', 'linear', 'cubic'], loc='best')\n",
    "\n",
    "plt.show()"
   ]
  },
  {
   "cell_type": "code",
   "execution_count": 8,
   "metadata": {},
   "outputs": [
    {
     "output_type": "execute_result",
     "data": {
      "text/plain": "[(0.0, 0.0),\n (33.333333333333336, 23.045267489711932),\n (66.66666666666667, 76.95473251028807),\n (100.0, 100.0)]"
     },
     "metadata": {},
     "execution_count": 8
    }
   ],
   "source": [
    "def spline_curve_points(x1, y1, x2, y2, s = 10, c = 8):\n",
    "    x = np.array([x1, x1 + s, x2 - s, x2])\n",
    "    y = np.array([y1, y1, y2, y2])\n",
    "    # f = interp1d(x, y)\n",
    "    f2 = interp1d(x, y, kind='cubic')\n",
    "\n",
    "    xnew = np.linspace(min(x), max(x), num=c, endpoint=True)\n",
    "    ynew=f2(xnew)\n",
    "    points = [(ptx, ynew[i]) for i, ptx in enumerate(xnew)]\n",
    "    return points\n",
    "spline_curve_points(0, 0, 100, 100, 10, 4)\n"
   ]
  },
  {
   "cell_type": "code",
   "execution_count": null,
   "metadata": {},
   "outputs": [],
   "source": []
  },
  {
   "cell_type": "code",
   "execution_count": 9,
   "metadata": {},
   "outputs": [],
   "source": [
    "from scipy.special import comb\n",
    "\n",
    "def bernstein_poly(i, n, t):\n",
    "    \"\"\"\n",
    "     The Bernstein polynomial of n, i as a function of t\n",
    "    \"\"\"\n",
    "\n",
    "    return comb(n, i) * ( t**(n-i) ) * (1 - t)**i\n",
    "\n",
    "def bezier_curve(x1, y1, x2, y2, s = 10, nTimes=10):\n",
    "    \"\"\"\n",
    "       Given a set of control points, return the\n",
    "       bezier curve defined by the control points.\n",
    "\n",
    "       points should be a list of lists, or list of tuples\n",
    "       such as [ [1,1], \n",
    "                 [2,3], \n",
    "                 [4,5], ..[Xn, Yn] ]\n",
    "        nTimes is the number of time steps, defaults to 1000\n",
    "\n",
    "        See http://processingjs.nihongoresources.com/bezierinfo/\n",
    "    \"\"\"\n",
    "    xPoints = np.array([x1, x1 + s, x2 - s, x2])\n",
    "    yPoints = np.array([y1, y1, y2, y2])\n",
    "\n",
    "    nPoints = len(xPoints)\n",
    "    # xPoints = np.array([p[0] for p in points])\n",
    "    # yPoints = np.array([p[1] for p in points])\n",
    "\n",
    "    t = np.linspace(0.0, 1.0, nTimes)\n",
    "\n",
    "    polynomial_array = np.array([ bernstein_poly(i, nPoints-1, t) for i in range(0, nPoints)   ])\n",
    "\n",
    "    xvals = np.dot(xPoints, polynomial_array)\n",
    "    yvals = np.dot(yPoints, polynomial_array)\n",
    "\n",
    "    points = [(ptx, yvals[i]) for i, ptx in enumerate(xvals)]\n",
    "    return points"
   ]
  },
  {
   "cell_type": "code",
   "execution_count": 10,
   "metadata": {},
   "outputs": [],
   "source": [
    "def bezier_curve_canvas(canvas, p_start, p_end):\n",
    "    canvas.line_join = 'bevel'\n",
    "    canvas.line_cap = 'round'\n",
    "    canvas.begin_path()\n",
    "    \n",
    "    points = bezier_curve(p_start[0], p_start[1], p_end[0], p_end[1], 50)\n",
    "    canvas.move_to(*points[0])\n",
    "    for pt in points[1:]:\n",
    "        canvas.line_to(*pt) \n",
    "    canvas.stroke()"
   ]
  },
  {
   "cell_type": "code",
   "execution_count": 11,
   "metadata": {
    "tags": []
   },
   "outputs": [
    {
     "output_type": "display_data",
     "data": {
      "text/plain": "Canvas(height=800, width=800)",
      "application/vnd.jupyter.widget-view+json": {
       "version_major": 2,
       "version_minor": 0,
       "model_id": "74a8922163ff4fe096b312b27997265e"
      }
     },
     "metadata": {}
    }
   ],
   "source": [
    "canvas = Canvas(width=800, height=800)\n",
    "\n",
    "Rect_Params = namedtuple('Rect_Params', 'x y w h')\n",
    "\n",
    "process_x_pos = 10\n",
    "process_width = 100\n",
    "process_height = 100\n",
    "\n",
    "state_x_pos = 300\n",
    "state_width = 100\n",
    "state_height = 100\n",
    "\n",
    "\n",
    "process_rects = [Rect_Params(process_x_pos, ((process_height +20) * i) + 10, process_width, process_height) for i in range(len(processes))]\n",
    "state_item_rects = [Rect_Params(state_x_pos, ((state_height +20) * i) + 10, state_width, state_height) for i in range(len(inputs_list))]\n",
    "for p in process_rects: canvas.stroke_rect(*p)\n",
    "for p in state_item_rects: canvas.stroke_rect(*p)\n",
    "\n",
    "for i, p in enumerate(processes):\n",
    "    process_rect = process_rects[i]\n",
    "    canvas.fill_text(p.comment, process_rect.x + 5, process_rect.y + 20)\n",
    "\n",
    "\n",
    "for i, p in enumerate(inputs_list):\n",
    "    state_item_rect = state_item_rects[i]\n",
    "    canvas.fill_text(p, state_item_rect.x + 5, state_item_rect.y + 20)\n",
    "\n",
    "\n",
    "\n",
    "for i, link in enumerate(links):\n",
    "    process_rect = process_rects[i]\n",
    "    for j in link[1]:\n",
    "        state_rect = state_item_rects[j]\n",
    "        canvas.stroke_style = 'blue'\n",
    "        p_start = [process_rect.x + process_rect.w,process_rect.y + 10]\n",
    "        p_end = [state_rect.x, state_rect.y + 10*i]\n",
    "        bezier_curve_canvas(canvas, p_start, p_end)\n",
    "\n",
    "\n",
    "    for j in link[2]:\n",
    "        state_rect = state_item_rects[j]\n",
    "        canvas.stroke_style = 'red'\n",
    "        canvas.begin_path()\n",
    "        p_start = [process_rect.x + process_rect.w,process_rect.y + process_rect.h -10]\n",
    "        p_end = [state_rect.x, state_rect.y + 10 * i]\n",
    "        bezier_curve_canvas(canvas, p_start, p_end)\n",
    "        canvas.stroke()\n",
    "    # break\n",
    "\n",
    "canvas"
   ]
  },
  {
   "cell_type": "code",
   "execution_count": 12,
   "metadata": {},
   "outputs": [],
   "source": [
    "from src.analysis.link_inputs_processes import link_processes_to_state\n"
   ]
  },
  {
   "cell_type": "code",
   "execution_count": 13,
   "metadata": {},
   "outputs": [
    {
     "output_type": "display_data",
     "data": {
      "text/plain": "Canvas(height=800, width=800)",
      "application/vnd.jupyter.widget-view+json": {
       "version_major": 2,
       "version_minor": 0,
       "model_id": "cf0c05d51e9040f989790931947c1f45"
      }
     },
     "metadata": {}
    }
   ],
   "source": [
    "canvas = Canvas(width=800, height=800)\n",
    "link_processes_to_state(canvas, processes)"
   ]
  }
 ]
}